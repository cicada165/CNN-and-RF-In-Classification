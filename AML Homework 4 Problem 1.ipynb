{
 "cells": [
  {
   "cell_type": "markdown",
   "id": "e76d2832",
   "metadata": {},
   "source": [
    "# AML Homework 4"
   ]
  },
  {
   "cell_type": "markdown",
   "id": "b2254bff",
   "metadata": {},
   "source": [
    "##### Yue Liu"
   ]
  },
  {
   "cell_type": "code",
   "execution_count": 1,
   "id": "089d9fd9",
   "metadata": {},
   "outputs": [],
   "source": [
    "import keras\n",
    "from tensorflow.python.keras.datasets import mnist\n",
    "import matplotlib.pyplot as plt\n",
    "import numpy as np\n",
    "from tensorflow.keras.utils import to_categorical\n",
    "from plot_keras_history import plot_history\n",
    "from tensorflow.keras.layers import Dropout"
   ]
  },
  {
   "cell_type": "code",
   "execution_count": 2,
   "id": "a0b73375",
   "metadata": {},
   "outputs": [
    {
     "data": {
      "text/plain": [
       "'2.7.0'"
      ]
     },
     "execution_count": 2,
     "metadata": {},
     "output_type": "execute_result"
    }
   ],
   "source": [
    "keras.__version__"
   ]
  },
  {
   "cell_type": "markdown",
   "id": "8654faa8",
   "metadata": {},
   "source": [
    "## Question 1"
   ]
  },
  {
   "cell_type": "markdown",
   "id": "7d4bd28f",
   "metadata": {},
   "source": [
    "### (a) Loading Dataset"
   ]
  },
  {
   "cell_type": "code",
   "execution_count": 3,
   "id": "c0497bca",
   "metadata": {},
   "outputs": [],
   "source": [
    "(train_X, train_Y), (test_X, test_Y) = mnist.load_data()"
   ]
  },
  {
   "cell_type": "code",
   "execution_count": 4,
   "id": "43f86833",
   "metadata": {},
   "outputs": [
    {
     "name": "stdout",
     "output_type": "stream",
     "text": [
      "The shape for train_X is: (60000, 28, 28)\n",
      "The shape for train_Y is: (60000,)\n",
      "The shape for test_X is: (10000, 28, 28)\n",
      "The shape for test_Y is: (10000,)\n"
     ]
    },
    {
     "data": {
      "text/plain": [
       "<matplotlib.image.AxesImage at 0x185a8229af0>"
      ]
     },
     "execution_count": 4,
     "metadata": {},
     "output_type": "execute_result"
    },
    {
     "data": {
      "image/png": "[encoded data removed]",
      "text/plain": [
       "<Figure size 432x288 with 1 Axes>"
      ]
     },
     "metadata": {
      "needs_background": "light"
     },
     "output_type": "display_data"
    }
   ],
   "source": [
    "#printing out the shape of train an dtest dataset matrices\n",
    "print(\"The shape for train_X is: \" + str(train_X.shape))\n",
    "print(\"The shape for train_Y is: \" + str(train_Y.shape))\n",
    "print(\"The shape for test_X is: \" + str(test_X.shape))\n",
    "print(\"The shape for test_Y is: \" + str(test_Y.shape))\n",
    "#Vsisualize individual images\n",
    "plt.imshow(train_X[0])"
   ]
  },
  {
   "cell_type": "markdown",
   "id": "d5b1720b",
   "metadata": {},
   "source": [
    "### (b) Preprocessing"
   ]
  },
  {
   "cell_type": "code",
   "execution_count": 5,
   "id": "1bde4e0a",
   "metadata": {},
   "outputs": [
    {
     "data": {
      "text/plain": [
       "<matplotlib.image.AxesImage at 0x185aa32e1f0>"
      ]
     },
     "execution_count": 5,
     "metadata": {},
     "output_type": "execute_result"
    },
    {
     "data": {
      "image/png": "[encoded data removed]",
      "text/plain": [
       "<Figure size 432x288 with 1 Axes>"
      ]
     },
     "metadata": {
      "needs_background": "light"
     },
     "output_type": "display_data"
    }
   ],
   "source": [
    "def preprocess(x, y):\n",
    "    #Scale the pixel values so they lie between 0.0 and 1.0\n",
    "    x = x.astype(\"float32\") / 255 \n",
    "    #Reshape the matrix to 28*28*1\n",
    "    x = np.expand_dims(x, -1)\n",
    "    y = np.expand_dims(y, -1)\n",
    "    #One-hot encode output variable\n",
    "    y = to_categorical(y, 10)\n",
    "    \n",
    "    return x, y\n",
    "    \n",
    "train_X, train_Y = preprocess(train_X, train_Y)\n",
    "test_X, test_Y = preprocess(test_X, test_Y)\n",
    "#Visualize image\n",
    "plt.imshow(train_X[0])"
   ]
  },
  {
   "cell_type": "markdown",
   "id": "ab03f3c4",
   "metadata": {},
   "source": [
    "### (c) Implementation"
   ]
  },
  {
   "cell_type": "code",
   "execution_count": 6,
   "id": "b9e19bfa",
   "metadata": {},
   "outputs": [
    {
     "name": "stdout",
     "output_type": "stream",
     "text": [
      "[<keras.layers.convolutional.Conv2D object at 0x00000185AA2FA430>, <keras.layers.pooling.MaxPooling2D object at 0x00000185A4E5B280>, <keras.layers.core.flatten.Flatten object at 0x00000185A4E5B250>, <keras.layers.core.dense.Dense object at 0x00000185A4E5B4C0>, <keras.layers.core.dense.Dense object at 0x00000185A4E908B0>]\n"
     ]
    },
    {
     "name": "stderr",
     "output_type": "stream",
     "text": [
      "C:\\Users\\billy\\anaconda3\\envs\\py36\\lib\\site-packages\\keras\\optimizer_v2\\gradient_descent.py:102: UserWarning: The `lr` argument is deprecated, use `learning_rate` instead.\n",
      "  super(SGD, self).__init__(name, **kwargs)\n"
     ]
    }
   ],
   "source": [
    "#Code providedddsdf\n",
    "from keras.models import Sequential\n",
    "from keras.layers import Conv2D\n",
    "from keras.layers import MaxPooling2D\n",
    "from keras.layers import Dense\n",
    "from keras.layers import Flatten\n",
    "from tensorflow.keras.optimizers import SGD\n",
    "def create_cnn() :\n",
    "    # define using Sequential\n",
    "    model = Sequential()\n",
    "    # Convolution layer\n",
    "    model.add(Conv2D(32,(3,3),\n",
    "              activation = 'relu', \n",
    "              kernel_initializer = 'he_uniform',\n",
    "              input_shape = (28, 28, 1)))\n",
    "    # Maxpooling layer\n",
    "    model.add (MaxPooling2D ((2, 2)))\n",
    "    # Flatten output\n",
    "    model.add(Flatten())\n",
    "    # Dense layer of 100 neurons\n",
    "    model.add(Dense(100, activation = 'relu', kernel_initializer = 'he_uniform'))\n",
    "    model.add (Dense (10 , activation= 'softmax' ) )\n",
    "    # initialize optimizer\n",
    "    opt = SGD(lr=0.01, momentum=0.9)\n",
    "    # compile model\n",
    "    model.compile (optimizer=opt, \n",
    "                   loss = 'categorical_crossentropy', \n",
    "                   metrics =['accuracy'])\n",
    "    return model\n",
    "\n",
    "model = create_cnn()\n",
    "print(model.layers)"
   ]
  },
  {
   "cell_type": "markdown",
   "id": "1f465025",
   "metadata": {},
   "source": [
    "### (d) Training and Evaluating CNN"
   ]
  },
  {
   "cell_type": "code",
   "execution_count": 7,
   "id": "f7661f04",
   "metadata": {},
   "outputs": [
    {
     "name": "stdout",
     "output_type": "stream",
     "text": [
      "Epoch 1/10\n",
      "1688/1688 [==============================] - 7s 4ms/step - loss: 0.1765 - accuracy: 0.9466 - val_loss: 0.0709 - val_accuracy: 0.9805\n",
      "Epoch 2/10\n",
      "1688/1688 [==============================] - 6s 4ms/step - loss: 0.0597 - accuracy: 0.9810 - val_loss: 0.0538 - val_accuracy: 0.9860\n",
      "Epoch 3/10\n",
      "1688/1688 [==============================] - 6s 4ms/step - loss: 0.0379 - accuracy: 0.9883 - val_loss: 0.0517 - val_accuracy: 0.9850\n",
      "Epoch 4/10\n",
      "1688/1688 [==============================] - 7s 4ms/step - loss: 0.0252 - accuracy: 0.9926 - val_loss: 0.0441 - val_accuracy: 0.9888\n",
      "Epoch 5/10\n",
      "1688/1688 [==============================] - 7s 4ms/step - loss: 0.0186 - accuracy: 0.9946 - val_loss: 0.0508 - val_accuracy: 0.9873\n",
      "Epoch 6/10\n",
      "1688/1688 [==============================] - 6s 4ms/step - loss: 0.0116 - accuracy: 0.9970 - val_loss: 0.0491 - val_accuracy: 0.9893\n",
      "Epoch 7/10\n",
      "1688/1688 [==============================] - 7s 4ms/step - loss: 0.0082 - accuracy: 0.9979 - val_loss: 0.0604 - val_accuracy: 0.9872\n",
      "Epoch 8/10\n",
      "1688/1688 [==============================] - 6s 4ms/step - loss: 0.0057 - accuracy: 0.9986 - val_loss: 0.0510 - val_accuracy: 0.9883\n",
      "Epoch 9/10\n",
      "1688/1688 [==============================] - 6s 4ms/step - loss: 0.0032 - accuracy: 0.9995 - val_loss: 0.0545 - val_accuracy: 0.9885\n",
      "Epoch 10/10\n",
      "1688/1688 [==============================] - 6s 4ms/step - loss: 0.0021 - accuracy: 0.9998 - val_loss: 0.0516 - val_accuracy: 0.9887\n",
      "The loss and accuracy on test data is: [0.03966928645968437, 0.9879000186920166]\n"
     ]
    }
   ],
   "source": [
    "model.fit(train_X,train_Y,batch_size=32,epochs=10,validation_split=0.1)\n",
    "score = model.evaluate(test_X,test_Y,verbose =0)\n",
    "print(\"The loss and accuracy on test data is: \" + str(score))"
   ]
  },
  {
   "cell_type": "markdown",
   "id": "62c2189d",
   "metadata": {},
   "source": [
    "### (e) Experimentation"
   ]
  },
  {
   "cell_type": "markdown",
   "id": "6f08416b",
   "metadata": {},
   "source": [
    "#### (i)"
   ]
  },
  {
   "cell_type": "code",
   "execution_count": 8,
   "id": "772eb83e",
   "metadata": {},
   "outputs": [
    {
     "name": "stdout",
     "output_type": "stream",
     "text": [
      "Epoch 1/50\n",
      "1688/1688 [==============================] - 7s 4ms/step - loss: 0.1782 - accuracy: 0.9459 - val_loss: 0.0755 - val_accuracy: 0.9793\n",
      "Epoch 2/50\n",
      "1688/1688 [==============================] - 6s 4ms/step - loss: 0.0569 - accuracy: 0.9831 - val_loss: 0.0551 - val_accuracy: 0.9848\n",
      "Epoch 3/50\n",
      "1688/1688 [==============================] - 6s 4ms/step - loss: 0.0366 - accuracy: 0.9885 - val_loss: 0.0543 - val_accuracy: 0.9845\n",
      "Epoch 4/50\n",
      "1688/1688 [==============================] - 7s 4ms/step - loss: 0.0249 - accuracy: 0.9925 - val_loss: 0.0524 - val_accuracy: 0.9862\n",
      "Epoch 5/50\n",
      "1688/1688 [==============================] - 6s 4ms/step - loss: 0.0174 - accuracy: 0.9946 - val_loss: 0.0450 - val_accuracy: 0.9885\n",
      "Epoch 6/50\n",
      "1688/1688 [==============================] - 7s 4ms/step - loss: 0.0118 - accuracy: 0.9969 - val_loss: 0.0488 - val_accuracy: 0.9877\n",
      "Epoch 7/50\n",
      "1688/1688 [==============================] - 6s 4ms/step - loss: 0.0082 - accuracy: 0.9976 - val_loss: 0.0506 - val_accuracy: 0.9888\n",
      "Epoch 8/50\n",
      "1688/1688 [==============================] - 6s 4ms/step - loss: 0.0052 - accuracy: 0.9989 - val_loss: 0.0602 - val_accuracy: 0.9865\n",
      "Epoch 9/50\n",
      "1688/1688 [==============================] - 6s 4ms/step - loss: 0.0041 - accuracy: 0.9991 - val_loss: 0.0545 - val_accuracy: 0.9887\n",
      "Epoch 10/50\n",
      "1688/1688 [==============================] - 6s 4ms/step - loss: 0.0023 - accuracy: 0.9997 - val_loss: 0.0510 - val_accuracy: 0.9890\n",
      "Epoch 11/50\n",
      "1688/1688 [==============================] - 7s 4ms/step - loss: 0.0014 - accuracy: 0.9999 - val_loss: 0.0522 - val_accuracy: 0.9893\n",
      "Epoch 12/50\n",
      "1688/1688 [==============================] - 6s 4ms/step - loss: 8.9655e-04 - accuracy: 1.0000 - val_loss: 0.0540 - val_accuracy: 0.9895\n",
      "Epoch 13/50\n",
      "1688/1688 [==============================] - 7s 4ms/step - loss: 6.6361e-04 - accuracy: 1.0000 - val_loss: 0.0553 - val_accuracy: 0.9890\n",
      "Epoch 14/50\n",
      "1688/1688 [==============================] - 6s 4ms/step - loss: 5.5776e-04 - accuracy: 1.0000 - val_loss: 0.0565 - val_accuracy: 0.9892\n",
      "Epoch 15/50\n",
      "1688/1688 [==============================] - 6s 4ms/step - loss: 4.7111e-04 - accuracy: 1.0000 - val_loss: 0.0581 - val_accuracy: 0.9883\n",
      "Epoch 16/50\n",
      "1688/1688 [==============================] - 6s 4ms/step - loss: 4.1255e-04 - accuracy: 1.0000 - val_loss: 0.0564 - val_accuracy: 0.9888\n",
      "Epoch 17/50\n",
      "1688/1688 [==============================] - 6s 4ms/step - loss: 3.6989e-04 - accuracy: 1.0000 - val_loss: 0.0580 - val_accuracy: 0.9887\n",
      "Epoch 18/50\n",
      "1688/1688 [==============================] - 6s 4ms/step - loss: 3.3492e-04 - accuracy: 1.0000 - val_loss: 0.0580 - val_accuracy: 0.9892\n",
      "Epoch 19/50\n",
      "1688/1688 [==============================] - 6s 4ms/step - loss: 3.0658e-04 - accuracy: 1.0000 - val_loss: 0.0588 - val_accuracy: 0.9888\n",
      "Epoch 20/50\n",
      "1688/1688 [==============================] - 6s 4ms/step - loss: 2.8467e-04 - accuracy: 1.0000 - val_loss: 0.0599 - val_accuracy: 0.9888\n",
      "Epoch 21/50\n",
      "1688/1688 [==============================] - 6s 4ms/step - loss: 2.6260e-04 - accuracy: 1.0000 - val_loss: 0.0591 - val_accuracy: 0.9883\n",
      "Epoch 22/50\n",
      "1688/1688 [==============================] - 6s 4ms/step - loss: 2.4143e-04 - accuracy: 1.0000 - val_loss: 0.0607 - val_accuracy: 0.9888\n",
      "Epoch 23/50\n",
      "1688/1688 [==============================] - 6s 4ms/step - loss: 2.3291e-04 - accuracy: 1.0000 - val_loss: 0.0611 - val_accuracy: 0.9887\n",
      "Epoch 24/50\n",
      "1688/1688 [==============================] - 6s 4ms/step - loss: 2.1643e-04 - accuracy: 1.0000 - val_loss: 0.0609 - val_accuracy: 0.9888\n",
      "Epoch 25/50\n",
      "1688/1688 [==============================] - 6s 4ms/step - loss: 2.0507e-04 - accuracy: 1.0000 - val_loss: 0.0603 - val_accuracy: 0.9890\n",
      "Epoch 26/50\n",
      "1688/1688 [==============================] - 7s 4ms/step - loss: 1.9324e-04 - accuracy: 1.0000 - val_loss: 0.0612 - val_accuracy: 0.9888\n",
      "Epoch 27/50\n",
      "1688/1688 [==============================] - 7s 4ms/step - loss: 1.8242e-04 - accuracy: 1.0000 - val_loss: 0.0615 - val_accuracy: 0.9887\n",
      "Epoch 28/50\n",
      "1688/1688 [==============================] - 6s 4ms/step - loss: 1.7446e-04 - accuracy: 1.0000 - val_loss: 0.0622 - val_accuracy: 0.9890\n",
      "Epoch 29/50\n",
      "1688/1688 [==============================] - 6s 4ms/step - loss: 1.6619e-04 - accuracy: 1.0000 - val_loss: 0.0623 - val_accuracy: 0.9890\n",
      "Epoch 30/50\n",
      "1688/1688 [==============================] - 7s 4ms/step - loss: 1.5905e-04 - accuracy: 1.0000 - val_loss: 0.0623 - val_accuracy: 0.9888\n",
      "Epoch 31/50\n",
      "1688/1688 [==============================] - 6s 4ms/step - loss: 1.5210e-04 - accuracy: 1.0000 - val_loss: 0.0628 - val_accuracy: 0.9888\n",
      "Epoch 32/50\n",
      "1688/1688 [==============================] - 7s 4ms/step - loss: 1.4576e-04 - accuracy: 1.0000 - val_loss: 0.0631 - val_accuracy: 0.9888\n",
      "Epoch 33/50\n",
      "1688/1688 [==============================] - 6s 4ms/step - loss: 1.4065e-04 - accuracy: 1.0000 - val_loss: 0.0633 - val_accuracy: 0.9885\n",
      "Epoch 34/50\n",
      "1688/1688 [==============================] - 6s 4ms/step - loss: 1.3476e-04 - accuracy: 1.0000 - val_loss: 0.0640 - val_accuracy: 0.9883\n",
      "Epoch 35/50\n",
      "1688/1688 [==============================] - 6s 4ms/step - loss: 1.2923e-04 - accuracy: 1.0000 - val_loss: 0.0636 - val_accuracy: 0.9888\n",
      "Epoch 36/50\n",
      "1688/1688 [==============================] - 6s 4ms/step - loss: 1.2466e-04 - accuracy: 1.0000 - val_loss: 0.0643 - val_accuracy: 0.9885\n",
      "Epoch 37/50\n",
      "1688/1688 [==============================] - 7s 4ms/step - loss: 1.2069e-04 - accuracy: 1.0000 - val_loss: 0.0645 - val_accuracy: 0.9885\n",
      "Epoch 38/50\n",
      "1688/1688 [==============================] - 7s 4ms/step - loss: 1.1622e-04 - accuracy: 1.0000 - val_loss: 0.0642 - val_accuracy: 0.9887\n",
      "Epoch 39/50\n",
      "1688/1688 [==============================] - 7s 4ms/step - loss: 1.1260e-04 - accuracy: 1.0000 - val_loss: 0.0650 - val_accuracy: 0.9888\n",
      "Epoch 40/50\n",
      "1688/1688 [==============================] - 7s 4ms/step - loss: 1.0896e-04 - accuracy: 1.0000 - val_loss: 0.0650 - val_accuracy: 0.9883\n",
      "Epoch 41/50\n",
      "1688/1688 [==============================] - 7s 4ms/step - loss: 1.0525e-04 - accuracy: 1.0000 - val_loss: 0.0650 - val_accuracy: 0.9887\n",
      "Epoch 42/50\n",
      "1688/1688 [==============================] - 6s 4ms/step - loss: 1.0226e-04 - accuracy: 1.0000 - val_loss: 0.0651 - val_accuracy: 0.9885\n",
      "Epoch 43/50\n",
      "1688/1688 [==============================] - 6s 4ms/step - loss: 9.9235e-05 - accuracy: 1.0000 - val_loss: 0.0653 - val_accuracy: 0.9887\n",
      "Epoch 44/50\n",
      "1688/1688 [==============================] - 7s 4ms/step - loss: 9.6303e-05 - accuracy: 1.0000 - val_loss: 0.0660 - val_accuracy: 0.9887\n",
      "Epoch 45/50\n",
      "1688/1688 [==============================] - 6s 4ms/step - loss: 9.3267e-05 - accuracy: 1.0000 - val_loss: 0.0659 - val_accuracy: 0.9885\n",
      "Epoch 46/50\n",
      "1688/1688 [==============================] - 6s 4ms/step - loss: 9.1122e-05 - accuracy: 1.0000 - val_loss: 0.0661 - val_accuracy: 0.9887\n",
      "Epoch 47/50\n",
      "1688/1688 [==============================] - 6s 4ms/step - loss: 8.8443e-05 - accuracy: 1.0000 - val_loss: 0.0663 - val_accuracy: 0.9888\n",
      "Epoch 48/50\n",
      "1688/1688 [==============================] - 6s 4ms/step - loss: 8.6085e-05 - accuracy: 1.0000 - val_loss: 0.0664 - val_accuracy: 0.9885\n",
      "Epoch 49/50\n",
      "1688/1688 [==============================] - 6s 4ms/step - loss: 8.3723e-05 - accuracy: 1.0000 - val_loss: 0.0669 - val_accuracy: 0.9887\n",
      "Epoch 50/50\n",
      "1688/1688 [==============================] - 6s 4ms/step - loss: 8.2112e-05 - accuracy: 1.0000 - val_loss: 0.0669 - val_accuracy: 0.9887\n",
      "[0.9459074139595032, 0.9830926060676575, 0.9885370135307312, 0.9924629926681519, 0.9946110844612122, 0.996925950050354, 0.997592568397522, 0.9988703727722168, 0.9990555644035339, 0.9997222423553467, 0.9999259114265442, 0.9999814629554749, 1.0, 1.0, 1.0, 1.0, 1.0, 1.0, 1.0, 1.0, 1.0, 1.0, 1.0, 1.0, 1.0, 1.0, 1.0, 1.0, 1.0, 1.0, 1.0, 1.0, 1.0, 1.0, 1.0, 1.0, 1.0, 1.0, 1.0, 1.0, 1.0, 1.0, 1.0, 1.0, 1.0, 1.0, 1.0, 1.0, 1.0, 1.0]\n",
      "[0.9793333411216736, 0.9848333597183228, 0.984499990940094, 0.9861666560173035, 0.9884999990463257, 0.987666666507721, 0.9888333082199097, 0.9865000247955322, 0.9886666536331177, 0.9890000224113464, 0.9893333315849304, 0.9894999861717224, 0.9890000224113464, 0.9891666769981384, 0.9883333444595337, 0.9888333082199097, 0.9886666536331177, 0.9891666769981384, 0.9888333082199097, 0.9888333082199097, 0.9883333444595337, 0.9888333082199097, 0.9886666536331177, 0.9888333082199097, 0.9890000224113464, 0.9888333082199097, 0.9886666536331177, 0.9890000224113464, 0.9890000224113464, 0.9888333082199097, 0.9888333082199097, 0.9888333082199097, 0.9884999990463257, 0.9883333444595337, 0.9888333082199097, 0.9884999990463257, 0.9884999990463257, 0.9886666536331177, 0.9888333082199097, 0.9883333444595337, 0.9886666536331177, 0.9884999990463257, 0.9886666536331177, 0.9886666536331177, 0.9884999990463257, 0.9886666536331177, 0.9888333082199097, 0.9884999990463257, 0.9886666536331177, 0.9886666536331177]\n"
     ]
    }
   ],
   "source": [
    "model2 = create_cnn()\n",
    "epoch_history = model2.fit(train_X,train_Y,\n",
    "                          batch_size=32,\n",
    "                          epochs=50,\n",
    "                          validation_split=0.1)\n",
    "# print validation and training accuracy over epochs\n",
    "print(epoch_history.history['accuracy'])\n",
    "print(epoch_history.history['val_accuracy'])"
   ]
  },
  {
   "cell_type": "code",
   "execution_count": 9,
   "id": "09738f8b",
   "metadata": {},
   "outputs": [
    {
     "data": {
      "image/png": "[encoded data removed]",
      "text/plain": [
       "<Figure size 432x288 with 1 Axes>"
      ]
     },
     "metadata": {
      "needs_background": "light"
     },
     "output_type": "display_data"
    }
   ],
   "source": [
    "# summarize history for accuracy\n",
    "plt.plot(epoch_history.history['accuracy'])\n",
    "plt.plot(epoch_history.history['val_accuracy'])\n",
    "plt.title('Validation Accuracy and Training Accuracy')\n",
    "plt.ylabel('Accuracy')\n",
    "plt.xlabel('Epoch')\n",
    "plt.legend(['train', 'test'], loc='upper left')\n",
    "plt.show()\n"
   ]
  },
  {
   "cell_type": "markdown",
   "id": "a2905b08",
   "metadata": {},
   "source": [
    "#### (ii)"
   ]
  },
  {
   "cell_type": "code",
   "execution_count": 10,
   "id": "cdea2806",
   "metadata": {},
   "outputs": [
    {
     "name": "stdout",
     "output_type": "stream",
     "text": [
      "Epoch 1/50\n",
      "1688/1688 [==============================] - 8s 5ms/step - loss: 0.2398 - accuracy: 0.9261 - val_loss: 0.0819 - val_accuracy: 0.9772\n",
      "Epoch 2/50\n",
      "1688/1688 [==============================] - 7s 4ms/step - loss: 0.0985 - accuracy: 0.9690 - val_loss: 0.0632 - val_accuracy: 0.9833\n",
      "Epoch 3/50\n",
      "1688/1688 [==============================] - 8s 5ms/step - loss: 0.0707 - accuracy: 0.9776 - val_loss: 0.0516 - val_accuracy: 0.9863\n",
      "Epoch 4/50\n",
      "1688/1688 [==============================] - 8s 5ms/step - loss: 0.0578 - accuracy: 0.9812 - val_loss: 0.0472 - val_accuracy: 0.9878\n",
      "Epoch 5/50\n",
      "1688/1688 [==============================] - 8s 5ms/step - loss: 0.0481 - accuracy: 0.9847 - val_loss: 0.0436 - val_accuracy: 0.9878\n",
      "Epoch 6/50\n",
      "1688/1688 [==============================] - 8s 5ms/step - loss: 0.0413 - accuracy: 0.9862 - val_loss: 0.0433 - val_accuracy: 0.9883\n",
      "Epoch 7/50\n",
      "1688/1688 [==============================] - 8s 5ms/step - loss: 0.0375 - accuracy: 0.9881 - val_loss: 0.0442 - val_accuracy: 0.9887\n",
      "Epoch 8/50\n",
      "1688/1688 [==============================] - 8s 5ms/step - loss: 0.0342 - accuracy: 0.9884 - val_loss: 0.0416 - val_accuracy: 0.9892\n",
      "Epoch 9/50\n",
      "1688/1688 [==============================] - 8s 5ms/step - loss: 0.0301 - accuracy: 0.9899 - val_loss: 0.0399 - val_accuracy: 0.9907\n",
      "Epoch 10/50\n",
      "1688/1688 [==============================] - 8s 5ms/step - loss: 0.0258 - accuracy: 0.9910 - val_loss: 0.0423 - val_accuracy: 0.9883\n",
      "Epoch 11/50\n",
      "1688/1688 [==============================] - 8s 5ms/step - loss: 0.0244 - accuracy: 0.9921 - val_loss: 0.0414 - val_accuracy: 0.9897\n",
      "Epoch 12/50\n",
      "1688/1688 [==============================] - 8s 5ms/step - loss: 0.0220 - accuracy: 0.9926 - val_loss: 0.0387 - val_accuracy: 0.9902\n",
      "Epoch 13/50\n",
      "1688/1688 [==============================] - 8s 5ms/step - loss: 0.0208 - accuracy: 0.9928 - val_loss: 0.0402 - val_accuracy: 0.9907\n",
      "Epoch 14/50\n",
      "1688/1688 [==============================] - 8s 5ms/step - loss: 0.0208 - accuracy: 0.9935 - val_loss: 0.0402 - val_accuracy: 0.9907\n",
      "Epoch 15/50\n",
      "1688/1688 [==============================] - 8s 5ms/step - loss: 0.0176 - accuracy: 0.9939 - val_loss: 0.0381 - val_accuracy: 0.9908\n",
      "Epoch 16/50\n",
      "1688/1688 [==============================] - 8s 5ms/step - loss: 0.0172 - accuracy: 0.9939 - val_loss: 0.0392 - val_accuracy: 0.9903\n",
      "Epoch 17/50\n",
      "1688/1688 [==============================] - 8s 5ms/step - loss: 0.0161 - accuracy: 0.9945 - val_loss: 0.0408 - val_accuracy: 0.9902\n",
      "Epoch 18/50\n",
      "1688/1688 [==============================] - 8s 5ms/step - loss: 0.0142 - accuracy: 0.9950 - val_loss: 0.0407 - val_accuracy: 0.9908\n",
      "Epoch 19/50\n",
      "1688/1688 [==============================] - 8s 5ms/step - loss: 0.0135 - accuracy: 0.9953 - val_loss: 0.0386 - val_accuracy: 0.9910\n",
      "Epoch 20/50\n",
      "1688/1688 [==============================] - 8s 5ms/step - loss: 0.0138 - accuracy: 0.9949 - val_loss: 0.0472 - val_accuracy: 0.9903\n",
      "Epoch 21/50\n",
      "1688/1688 [==============================] - 8s 5ms/step - loss: 0.0132 - accuracy: 0.9952 - val_loss: 0.0402 - val_accuracy: 0.9913\n",
      "Epoch 22/50\n",
      "1688/1688 [==============================] - 8s 5ms/step - loss: 0.0130 - accuracy: 0.9955 - val_loss: 0.0393 - val_accuracy: 0.9917\n",
      "Epoch 23/50\n",
      "1688/1688 [==============================] - 8s 5ms/step - loss: 0.0133 - accuracy: 0.9955 - val_loss: 0.0409 - val_accuracy: 0.9910\n",
      "Epoch 24/50\n",
      "1688/1688 [==============================] - 8s 5ms/step - loss: 0.0114 - accuracy: 0.9961 - val_loss: 0.0406 - val_accuracy: 0.9907\n",
      "Epoch 25/50\n",
      "1688/1688 [==============================] - 8s 5ms/step - loss: 0.0100 - accuracy: 0.9965 - val_loss: 0.0488 - val_accuracy: 0.9900\n",
      "Epoch 26/50\n",
      "1688/1688 [==============================] - 8s 5ms/step - loss: 0.0106 - accuracy: 0.9964 - val_loss: 0.0473 - val_accuracy: 0.9893\n",
      "Epoch 27/50\n",
      "1688/1688 [==============================] - 8s 5ms/step - loss: 0.0097 - accuracy: 0.9966 - val_loss: 0.0468 - val_accuracy: 0.9908\n",
      "Epoch 28/50\n",
      "1688/1688 [==============================] - 8s 5ms/step - loss: 0.0088 - accuracy: 0.9970 - val_loss: 0.0432 - val_accuracy: 0.9915\n",
      "Epoch 29/50\n",
      "1688/1688 [==============================] - 8s 5ms/step - loss: 0.0087 - accuracy: 0.9971 - val_loss: 0.0436 - val_accuracy: 0.9895\n",
      "Epoch 30/50\n",
      "1688/1688 [==============================] - 8s 5ms/step - loss: 0.0096 - accuracy: 0.9967 - val_loss: 0.0437 - val_accuracy: 0.9908\n",
      "Epoch 31/50\n",
      "1688/1688 [==============================] - 9s 5ms/step - loss: 0.0087 - accuracy: 0.9971 - val_loss: 0.0449 - val_accuracy: 0.9908\n",
      "Epoch 32/50\n",
      "1688/1688 [==============================] - 8s 5ms/step - loss: 0.0079 - accuracy: 0.9972 - val_loss: 0.0439 - val_accuracy: 0.9913\n",
      "Epoch 33/50\n",
      "1688/1688 [==============================] - 8s 5ms/step - loss: 0.0083 - accuracy: 0.9973 - val_loss: 0.0444 - val_accuracy: 0.9903\n",
      "Epoch 34/50\n",
      "1688/1688 [==============================] - 9s 5ms/step - loss: 0.0075 - accuracy: 0.9974 - val_loss: 0.0473 - val_accuracy: 0.9895\n",
      "Epoch 35/50\n",
      "1688/1688 [==============================] - 9s 5ms/step - loss: 0.0072 - accuracy: 0.9975 - val_loss: 0.0447 - val_accuracy: 0.9903\n",
      "Epoch 36/50\n",
      "1688/1688 [==============================] - 9s 5ms/step - loss: 0.0083 - accuracy: 0.9974 - val_loss: 0.0441 - val_accuracy: 0.9907\n",
      "Epoch 37/50\n",
      "1688/1688 [==============================] - 9s 5ms/step - loss: 0.0061 - accuracy: 0.9981 - val_loss: 0.0414 - val_accuracy: 0.9913\n",
      "Epoch 38/50\n",
      "1688/1688 [==============================] - 9s 5ms/step - loss: 0.0073 - accuracy: 0.9975 - val_loss: 0.0443 - val_accuracy: 0.9905\n",
      "Epoch 39/50\n",
      "1688/1688 [==============================] - 9s 5ms/step - loss: 0.0064 - accuracy: 0.9977 - val_loss: 0.0436 - val_accuracy: 0.9910\n",
      "Epoch 40/50\n",
      "1688/1688 [==============================] - 9s 5ms/step - loss: 0.0069 - accuracy: 0.9977 - val_loss: 0.0457 - val_accuracy: 0.9915\n",
      "Epoch 41/50\n",
      "1688/1688 [==============================] - 8s 5ms/step - loss: 0.0062 - accuracy: 0.9978 - val_loss: 0.0451 - val_accuracy: 0.9913\n",
      "Epoch 42/50\n",
      "1688/1688 [==============================] - 8s 5ms/step - loss: 0.0057 - accuracy: 0.9981 - val_loss: 0.0404 - val_accuracy: 0.9925\n",
      "Epoch 43/50\n",
      "1688/1688 [==============================] - 8s 5ms/step - loss: 0.0053 - accuracy: 0.9983 - val_loss: 0.0447 - val_accuracy: 0.9915\n",
      "Epoch 44/50\n",
      "1688/1688 [==============================] - 9s 5ms/step - loss: 0.0063 - accuracy: 0.9977 - val_loss: 0.0437 - val_accuracy: 0.9917\n",
      "Epoch 45/50\n",
      "1688/1688 [==============================] - 9s 5ms/step - loss: 0.0059 - accuracy: 0.9979 - val_loss: 0.0428 - val_accuracy: 0.9910\n",
      "Epoch 46/50\n",
      "1688/1688 [==============================] - 9s 5ms/step - loss: 0.0062 - accuracy: 0.9980 - val_loss: 0.0419 - val_accuracy: 0.9920\n",
      "Epoch 47/50\n",
      "1688/1688 [==============================] - 9s 5ms/step - loss: 0.0060 - accuracy: 0.9979 - val_loss: 0.0469 - val_accuracy: 0.9913\n",
      "Epoch 48/50\n",
      "1688/1688 [==============================] - 9s 5ms/step - loss: 0.0048 - accuracy: 0.9984 - val_loss: 0.0402 - val_accuracy: 0.9925\n",
      "Epoch 49/50\n",
      "1688/1688 [==============================] - 9s 5ms/step - loss: 0.0057 - accuracy: 0.9981 - val_loss: 0.0428 - val_accuracy: 0.9920\n",
      "Epoch 50/50\n",
      "1688/1688 [==============================] - 9s 5ms/step - loss: 0.0041 - accuracy: 0.9986 - val_loss: 0.0458 - val_accuracy: 0.9912\n"
     ]
    },
    {
     "data": {
      "image/png": "[encoded data removed]",
      "text/plain": [
       "<Figure size 432x288 with 1 Axes>"
      ]
     },
     "metadata": {
      "needs_background": "light"
     },
     "output_type": "display_data"
    }
   ],
   "source": [
    "#Function to build model with dropout\n",
    "def create_cnn_with_dropout():\n",
    "    # define using Sequential\n",
    "    model = Sequential()\n",
    "    # Convolution layer\n",
    "    model.add(Conv2D(32,(3,3),\n",
    "              activation = 'relu', \n",
    "              kernel_initializer = 'he_uniform',\n",
    "              input_shape = (28, 28, 1)))\n",
    "    # Maxpooling layer\n",
    "    model.add (MaxPooling2D ((2, 2)))\n",
    "    # Flatten output\n",
    "    model.add(Flatten())\n",
    "    # Dropout\n",
    "    model.add(Dropout(0.5))\n",
    "    # Dense layer of 100 neurons\n",
    "    model.add(Dense(100, activation = 'relu', kernel_initializer = 'he_uniform'))\n",
    "    model.add (Dense (10 , activation= 'softmax' ) )\n",
    "    # initialize optimizer\n",
    "    opt = SGD(lr=0.01, momentum=0.9)\n",
    "    # compile model\n",
    "    model.compile (optimizer=opt, \n",
    "                   loss = 'categorical_crossentropy', \n",
    "                   metrics =['accuracy'])\n",
    "    return model\n",
    "\n",
    "model3 = create_cnn_with_dropout()\n",
    "\n",
    "epoch_history = model3.fit(train_X,train_Y,\n",
    "                          batch_size=32,\n",
    "                          epochs=50,\n",
    "                          validation_split=0.1)\n",
    "\n",
    "plt.plot(epoch_history.history['accuracy'])\n",
    "plt.plot(epoch_history.history['val_accuracy'])\n",
    "plt.title('Validation Accuracy and Training Accuracy')\n",
    "plt.ylabel('Accuracy')\n",
    "plt.xlabel('Epoch')\n",
    "plt.legend(['train', 'test'], loc='upper left')\n",
    "plt.show()"
   ]
  },
  {
   "cell_type": "markdown",
   "id": "291d2e74",
   "metadata": {},
   "source": [
    "#### (iii)"
   ]
  },
  {
   "cell_type": "code",
   "execution_count": 11,
   "id": "7e1af050",
   "metadata": {},
   "outputs": [
    {
     "name": "stdout",
     "output_type": "stream",
     "text": [
      "Epoch 1/10\n",
      "1688/1688 [==============================] - 11s 6ms/step - loss: 0.1945 - accuracy: 0.9381 - val_loss: 0.0542 - val_accuracy: 0.9838\n",
      "Epoch 2/10\n",
      "1688/1688 [==============================] - 10s 6ms/step - loss: 0.0836 - accuracy: 0.9741 - val_loss: 0.0447 - val_accuracy: 0.9870\n",
      "Epoch 3/10\n",
      "1688/1688 [==============================] - 10s 6ms/step - loss: 0.0637 - accuracy: 0.9801 - val_loss: 0.0332 - val_accuracy: 0.9912\n",
      "Epoch 4/10\n",
      "1688/1688 [==============================] - 10s 6ms/step - loss: 0.0529 - accuracy: 0.9836 - val_loss: 0.0295 - val_accuracy: 0.9913\n",
      "Epoch 5/10\n",
      "1688/1688 [==============================] - 10s 6ms/step - loss: 0.0470 - accuracy: 0.9849 - val_loss: 0.0339 - val_accuracy: 0.9902\n",
      "Epoch 6/10\n",
      "1688/1688 [==============================] - 10s 6ms/step - loss: 0.0399 - accuracy: 0.9875 - val_loss: 0.0321 - val_accuracy: 0.9907\n",
      "Epoch 7/10\n",
      "1688/1688 [==============================] - 10s 6ms/step - loss: 0.0363 - accuracy: 0.9880 - val_loss: 0.0294 - val_accuracy: 0.9910\n",
      "Epoch 8/10\n",
      "1688/1688 [==============================] - 10s 6ms/step - loss: 0.0337 - accuracy: 0.9890 - val_loss: 0.0274 - val_accuracy: 0.9917\n",
      "Epoch 9/10\n",
      "1688/1688 [==============================] - 10s 6ms/step - loss: 0.0308 - accuracy: 0.9898 - val_loss: 0.0313 - val_accuracy: 0.9913\n",
      "Epoch 10/10\n",
      "1688/1688 [==============================] - 10s 6ms/step - loss: 0.0291 - accuracy: 0.9902 - val_loss: 0.0290 - val_accuracy: 0.9928\n",
      "The loss and accuracy for model with Dropout and double convolution layer and maxpooling layer on test data is: [0.0245823934674263, 0.9911999702453613]\n"
     ]
    }
   ],
   "source": [
    "def create_cnn_with_dropout_double():\n",
    "    # define using Sequential\n",
    "    model = Sequential()\n",
    "    # Convolution layer\n",
    "    model.add(Conv2D(32,(3,3),\n",
    "              activation = 'relu', \n",
    "              kernel_initializer = 'he_uniform',\n",
    "              input_shape = (28, 28, 1)))\n",
    "    # Maxpooling layer\n",
    "    model.add (MaxPooling2D ((2, 2)))\n",
    "    # Convolution layer 2\n",
    "    model.add(Conv2D(64,(3,3),#64 Output filters\n",
    "              activation = 'relu', \n",
    "              kernel_initializer = 'he_uniform',\n",
    "              input_shape = (28, 28, 1)))\n",
    "    # Maxpooling layer 2\n",
    "    model.add (MaxPooling2D ((2, 2)))\n",
    "    # Flatten output\n",
    "    model.add(Flatten())\n",
    "    # Dropout\n",
    "    model.add(Dropout(0.5))\n",
    "    # Dense layer of 100 neurons\n",
    "    model.add(Dense(100, activation = 'relu', kernel_initializer = 'he_uniform'))\n",
    "    model.add (Dense (10 , activation= 'softmax' ) )\n",
    "    # initialize optimizer\n",
    "    opt = SGD(lr=0.01, momentum=0.9)\n",
    "    # compile model\n",
    "    model.compile (optimizer=opt, \n",
    "                   loss = 'categorical_crossentropy', \n",
    "                   metrics =['accuracy'])\n",
    "    return model\n",
    "\n",
    "model4 = create_cnn_with_dropout_double()\n",
    "epoch_history = model4.fit(train_X,train_Y,\n",
    "                          batch_size=32,\n",
    "                          epochs=10,#Train for 10 epoches\n",
    "                          validation_split=0.1)\n",
    "score = model4.evaluate(test_X,test_Y,verbose =0)\n",
    "print(\"The loss and accuracy for model with Dropout and double convolution layer and maxpooling layer on test data is: \" + str(score))"
   ]
  },
  {
   "cell_type": "markdown",
   "id": "0f6f893e",
   "metadata": {},
   "source": [
    "#### (iv)"
   ]
  },
  {
   "cell_type": "code",
   "execution_count": 13,
   "id": "4e878156",
   "metadata": {},
   "outputs": [
    {
     "name": "stdout",
     "output_type": "stream",
     "text": [
      "Epoch 1/10\n",
      "1688/1688 [==============================] - 9s 5ms/step - loss: 1.1283 - accuracy: 0.6838 - val_loss: 0.9791 - val_accuracy: 0.6907\n",
      "Epoch 2/10\n",
      "1688/1688 [==============================] - 9s 5ms/step - loss: 1.6200 - accuracy: 0.4542 - val_loss: 1.2853 - val_accuracy: 0.6007\n",
      "Epoch 3/10\n",
      "1688/1688 [==============================] - 9s 5ms/step - loss: 1.6798 - accuracy: 0.4173 - val_loss: 1.3854 - val_accuracy: 0.5010\n",
      "Epoch 4/10\n",
      "1688/1688 [==============================] - 9s 5ms/step - loss: 1.8255 - accuracy: 0.3718 - val_loss: 1.4646 - val_accuracy: 0.5857\n",
      "Epoch 5/10\n",
      "1688/1688 [==============================] - 9s 5ms/step - loss: 1.7290 - accuracy: 0.4023 - val_loss: 1.3062 - val_accuracy: 0.5602\n",
      "Epoch 6/10\n",
      "1688/1688 [==============================] - 9s 5ms/step - loss: 2.1776 - accuracy: 0.2319 - val_loss: 2.2960 - val_accuracy: 0.1108\n",
      "Epoch 7/10\n",
      "1688/1688 [==============================] - 9s 5ms/step - loss: 2.3015 - accuracy: 0.1151 - val_loss: 2.3036 - val_accuracy: 0.1113\n",
      "Epoch 8/10\n",
      "1688/1688 [==============================] - 9s 5ms/step - loss: 2.3016 - accuracy: 0.1113 - val_loss: 2.3208 - val_accuracy: 0.1113\n",
      "Epoch 9/10\n",
      "1688/1688 [==============================] - 9s 5ms/step - loss: 2.3057 - accuracy: 0.1068 - val_loss: 2.3075 - val_accuracy: 0.1050\n",
      "Epoch 10/10\n",
      "1688/1688 [==============================] - 9s 5ms/step - loss: 2.2901 - accuracy: 0.1168 - val_loss: 2.3077 - val_accuracy: 0.0998\n",
      "The loss and accuracy for model with Dropout and double convolution layer and maxpooling layer with lr=0.1 on test data is: [2.3078458309173584, 0.10480000078678131]\n",
      "Epoch 1/10\n",
      "1688/1688 [==============================] - 9s 5ms/step - loss: 0.4305 - accuracy: 0.8651 - val_loss: 0.1092 - val_accuracy: 0.9688\n",
      "Epoch 2/10\n",
      "1688/1688 [==============================] - 9s 5ms/step - loss: 0.1619 - accuracy: 0.9511 - val_loss: 0.0740 - val_accuracy: 0.9785\n",
      "Epoch 3/10\n",
      "1688/1688 [==============================] - 9s 5ms/step - loss: 0.1242 - accuracy: 0.9614 - val_loss: 0.0623 - val_accuracy: 0.9828\n",
      "Epoch 4/10\n",
      "1688/1688 [==============================] - 9s 5ms/step - loss: 0.1043 - accuracy: 0.9676 - val_loss: 0.0577 - val_accuracy: 0.9837\n",
      "Epoch 5/10\n",
      "1688/1688 [==============================] - 9s 5ms/step - loss: 0.0936 - accuracy: 0.9714 - val_loss: 0.0513 - val_accuracy: 0.9853\n",
      "Epoch 6/10\n",
      "1688/1688 [==============================] - 9s 5ms/step - loss: 0.0852 - accuracy: 0.9729 - val_loss: 0.0493 - val_accuracy: 0.9868\n",
      "Epoch 7/10\n",
      "1688/1688 [==============================] - 9s 5ms/step - loss: 0.0782 - accuracy: 0.9754 - val_loss: 0.0484 - val_accuracy: 0.9873\n",
      "Epoch 8/10\n",
      "1688/1688 [==============================] - 9s 5ms/step - loss: 0.0727 - accuracy: 0.9772 - val_loss: 0.0444 - val_accuracy: 0.9870\n",
      "Epoch 9/10\n",
      "1688/1688 [==============================] - 9s 5ms/step - loss: 0.0682 - accuracy: 0.9792 - val_loss: 0.0406 - val_accuracy: 0.9890\n",
      "Epoch 10/10\n",
      "1688/1688 [==============================] - 9s 5ms/step - loss: 0.0636 - accuracy: 0.9798 - val_loss: 0.0406 - val_accuracy: 0.9885\n",
      "The loss and accuracy for model with Dropout and double convolution layer and maxpooling layer with lr=0.001 on test data is: [0.036580294370651245, 0.988099992275238]\n"
     ]
    }
   ],
   "source": [
    "def create_cnn_with_dropout_double_1E1():\n",
    "    # define using Sequential\n",
    "    model = Sequential()\n",
    "    # Convolution layer\n",
    "    model.add(Conv2D(32,(3,3),\n",
    "              activation = 'relu', \n",
    "              kernel_initializer = 'he_uniform',\n",
    "              input_shape = (28, 28, 1)))\n",
    "    # Maxpooling layer\n",
    "    model.add (MaxPooling2D ((2, 2)))\n",
    "    # Convolution layer 2\n",
    "    model.add(Conv2D(64,(3,3),#64 Output filters\n",
    "              activation = 'relu', \n",
    "              kernel_initializer = 'he_uniform',\n",
    "              input_shape = (28, 28, 1)))\n",
    "    # Maxpooling layer 2\n",
    "    model.add (MaxPooling2D ((2, 2)))\n",
    "    # Flatten output\n",
    "    model.add(Flatten())\n",
    "    # Dropout\n",
    "    model.add(Dropout(0.5))\n",
    "    # Dense layer of 100 neurons\n",
    "    model.add(Dense(100, activation = 'relu', kernel_initializer = 'he_uniform'))\n",
    "    model.add (Dense (10 , activation= 'softmax' ) )\n",
    "    # initialize optimizer\n",
    "    opt = SGD(lr=0.1, momentum=0.9)\n",
    "    # compile model\n",
    "    model.compile (optimizer=opt, \n",
    "                   loss = 'categorical_crossentropy', \n",
    "                   metrics =['accuracy'])\n",
    "    return model\n",
    "\n",
    "def create_cnn_with_dropout_double_1E3():\n",
    "    # define using Sequential\n",
    "    model = Sequential()\n",
    "    # Convolution layer\n",
    "    model.add(Conv2D(32,(3,3),\n",
    "              activation = 'relu', \n",
    "              kernel_initializer = 'he_uniform',\n",
    "              input_shape = (28, 28, 1)))\n",
    "    # Maxpooling layer\n",
    "    model.add (MaxPooling2D ((2, 2)))\n",
    "    # Convolution layer 2\n",
    "    model.add(Conv2D(64,(3,3),#64 Output filters\n",
    "              activation = 'relu', \n",
    "              kernel_initializer = 'he_uniform',\n",
    "              input_shape = (28, 28, 1)))\n",
    "    # Maxpooling layer 2\n",
    "    model.add (MaxPooling2D ((2, 2)))\n",
    "    # Flatten output\n",
    "    model.add(Flatten())\n",
    "    # Dropout\n",
    "    model.add(Dropout(0.5))\n",
    "    # Dense layer of 100 neurons\n",
    "    model.add(Dense(100, activation = 'relu', kernel_initializer = 'he_uniform'))\n",
    "    model.add (Dense (10 , activation= 'softmax' ) )\n",
    "    # initialize optimizer\n",
    "    opt = SGD(lr=0.001, momentum=0.9)\n",
    "    # compile model\n",
    "    model.compile (optimizer=opt, \n",
    "                   loss = 'categorical_crossentropy', \n",
    "                   metrics =['accuracy'])\n",
    "    return model\n",
    "\n",
    "model5 = create_cnn_with_dropout_double_1E1()\n",
    "model6 = create_cnn_with_dropout_double_1E3()\n",
    "\n",
    "epoch_history = model5.fit(train_X,train_Y,\n",
    "                          batch_size=32,\n",
    "                          epochs=10,#Train for 10 epoches\n",
    "                          validation_split=0.1)\n",
    "score = model5.evaluate(test_X,test_Y,verbose =0)\n",
    "print(\"The loss and accuracy for model with Dropout and double convolution layer and maxpooling layer with lr=0.1 on test data is: \" + str(score))\n",
    "\n",
    "epoch_history = model6.fit(train_X,train_Y,\n",
    "                          batch_size=32,\n",
    "                          epochs=10,#Train for 10 epoches\n",
    "                          validation_split=0.1)\n",
    "score = model6.evaluate(test_X,test_Y,verbose =0)\n",
    "print(\"The loss and accuracy for model with Dropout and double convolution layer and maxpooling layer with lr=0.001 on test data is: \" + str(score))"
   ]
  },
  {
   "cell_type": "markdown",
   "id": "8d3b2310",
   "metadata": {},
   "source": [
    "### (f)"
   ]
  },
  {
   "cell_type": "markdown",
   "id": "8c8de201",
   "metadata": {},
   "source": [
    "#### (i)"
   ]
  },
  {
   "cell_type": "markdown",
   "id": "b34b32bd",
   "metadata": {},
   "source": [
    "#### (ii)"
   ]
  },
  {
   "cell_type": "markdown",
   "id": "64e946ba",
   "metadata": {},
   "source": [
    "#### (iii)"
   ]
  }
 ],
 "metadata": {
  "kernelspec": {
   "display_name": "Python 3",
   "language": "python",
   "name": "python3"
  },
  "language_info": {
   "codemirror_mode": {
    "name": "ipython",
    "version": 3
   },
   "file_extension": ".py",
   "mimetype": "text/x-python",
   "name": "python",
   "nbconvert_exporter": "python",
   "pygments_lexer": "ipython3",
   "version": "3.8.8"
  }
 },
 "nbformat": 4,
 "nbformat_minor": 5
}
