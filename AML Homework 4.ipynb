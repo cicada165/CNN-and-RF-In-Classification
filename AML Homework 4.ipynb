{
 "cells": [
  {
   "cell_type": "markdown",
   "id": "ff2ba453",
   "metadata": {},
   "source": [
    "# AML Homework 4"
   ]
  },
  {
   "cell_type": "markdown",
   "id": "625e60ac",
   "metadata": {},
   "source": [
    "##### Yue Liu"
   ]
  },
  {
   "cell_type": "code",
   "execution_count": null,
   "id": "97334b8d",
   "metadata": {},
   "outputs": [],
   "source": [
    "import keras"
   ]
  },
  {
   "cell_type": "raw",
   "id": "3ee0ed4f",
   "metadata": {},
   "source": [
    "keras.__version__"
   ]
  }
 ],
 "metadata": {
  "kernelspec": {
   "display_name": "Python [conda env:py36] *",
   "language": "python",
   "name": "conda-env-py36-py"
  },
  "language_info": {
   "codemirror_mode": {
    "name": "ipython",
    "version": 3
   },
   "file_extension": ".py",
   "mimetype": "text/x-python",
   "name": "python",
   "nbconvert_exporter": "python",
   "pygments_lexer": "ipython3",
   "version": "3.6.2"
  }
 },
 "nbformat": 4,
 "nbformat_minor": 5
}
